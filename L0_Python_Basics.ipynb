{
  "nbformat": 4,
  "nbformat_minor": 0,
  "metadata": {
    "colab": {
      "provenance": [],
      "authorship_tag": "ABX9TyNJ8yvl/9CnOwCPqTC2Bbgh",
      "include_colab_link": true
    },
    "kernelspec": {
      "name": "python3",
      "display_name": "Python 3"
    },
    "language_info": {
      "name": "python"
    }
  },
  "cells": [
    {
      "cell_type": "markdown",
      "metadata": {
        "id": "view-in-github",
        "colab_type": "text"
      },
      "source": [
        "<a href=\"https://colab.research.google.com/github/tarkeshsingh/Python-for-Sensorimotor-Neuroscience/blob/main/L0_Python_Basics.ipynb\" target=\"_parent\"><img src=\"https://colab.research.google.com/assets/colab-badge.svg\" alt=\"Open In Colab\"/></a>"
      ]
    },
    {
      "cell_type": "markdown",
      "source": [
        "Start with reading a basic text file in Python"
      ],
      "metadata": {
        "id": "8Jsd3MIKpW6F"
      }
    },
    {
      "cell_type": "markdown",
      "source": [
        "Python is an interpreted language. The Python interpreter runs a program by executing one statement at a time. The standard interactive Python interpreter can be invoked on the command line with the python command:"
      ],
      "metadata": {
        "id": "m2GmcGjJ7lSi"
      }
    },
    {
      "cell_type": "code",
      "source": [
        "a=4\n",
        "print(a)"
      ],
      "metadata": {
        "colab": {
          "base_uri": "https://localhost:8080/"
        },
        "id": "JvC21n5d7oSP",
        "outputId": "9742a292-a672-4548-e6c0-30b7b4670e2a"
      },
      "execution_count": 3,
      "outputs": [
        {
          "output_type": "stream",
          "name": "stdout",
          "text": [
            "4\n"
          ]
        }
      ]
    },
    {
      "cell_type": "markdown",
      "source": [
        "The default IPython or Spyder prompt adopts the numbered format \"In[1]:\" But in interactive notebooks like Google Colab or Jupyter notebook, you can run a series of commands one step at a time. Google Colab is a hosted Jupyter Notebook service that requires no setup to use and provides free access to computing resources, including GPUs and TPUs. Colab is especially well suited to machine learning, data science, and education. In this course, we will use Google Colab (but you are free to use Jupyter Notebooks)."
      ],
      "metadata": {
        "id": "cuXJXzRs8Bxj"
      }
    },
    {
      "cell_type": "code",
      "source": [
        "print(\"Hello World\")\n",
        "import numpy as np\n",
        "data=[np.random.standard_normal() for i in range(5)]\n",
        "print(data)"
      ],
      "metadata": {
        "colab": {
          "base_uri": "https://localhost:8080/"
        },
        "id": "UnOWdrzT-khg",
        "outputId": "68213343-ee87-43a9-bfb0-33ec12e96a3c"
      },
      "execution_count": 9,
      "outputs": [
        {
          "output_type": "stream",
          "name": "stdout",
          "text": [
            "Hello World\n",
            "[0.8733827000239601, 1.0207081786246837, -0.4194955056220487, 0.31552418456517434, -0.36313474903847154]\n"
          ]
        }
      ]
    },
    {
      "cell_type": "markdown",
      "source": [
        "The first two lines are Python code statements; the second statement creates a variable named data that refers to a newly created list. The last line prints the value of data.\n",
        "\n",
        "The Colab/Jupyter notebooks interact with kernels, which are implementations of the interactive computing protocol specific to different programming languages. When you save a Colab notebook (see \"Save a Copy in Drive\" under the notebook File menu), it creates a file with the extension .ipynb. This is a self-contained file format that contains all of the content (including any evaluated code output) currently in the notebook."
      ],
      "metadata": {
        "id": "F1Dx3aySA5mI"
      }
    },
    {
      "cell_type": "markdown",
      "source": [
        "While the Colab/Jupyter notebook may feel like a distinct experience from the IPython shell, nearly all of the commands and tools in this chapter can be used in either environment."
      ],
      "metadata": {
        "id": "dyRNRRU7BaEJ"
      }
    },
    {
      "cell_type": "code",
      "execution_count": 14,
      "metadata": {
        "colab": {
          "base_uri": "https://localhost:8080/"
        },
        "id": "ceNGQXClM02P",
        "outputId": "42648987-6b68-4d20-b3eb-7d150df13f92"
      },
      "outputs": [
        {
          "output_type": "stream",
          "name": "stdout",
          "text": [
            "Drive already mounted at /content/drive; to attempt to forcibly remount, call drive.mount(\"/content/drive\", force_remount=True).\n",
            "/content/drive/MyDrive/Colab Notebooks KINES 597/data\n",
            "Time(s)\tSignal\n",
            "0.000000\t0.000000\n",
            "0.001000\t0.037697\n",
            "0.002000\t0.075380\n",
            "0.003000\t0.113037\n"
          ]
        }
      ],
      "source": [
        "import pandas as pd\n",
        "import numpy as np\n",
        "import os\n",
        "from google.colab import drive\n",
        "\n",
        "%pwd\n",
        "drive.mount('/content/drive')\n",
        "os.chdir('/content/drive/MyDrive/Colab Notebooks KINES 597/data/')\n",
        "\n",
        "!pwd\n",
        "file_path = ('/content/drive/MyDrive/Colab Notebooks KINES 597/data/sinusoidal_data.txt')\n",
        "with open(file_path, 'r') as file:\n",
        "    with open(file_path, 'r') as file:\n",
        "     first_five_lines = file.readlines()[:5]\n",
        "\n",
        "    for line in first_five_lines:\n",
        "      print(line.strip())"
      ]
    },
    {
      "cell_type": "markdown",
      "source": [
        "This code uploaded a data file from my local Google Directory and printed the first four lines from the file."
      ],
      "metadata": {
        "id": "JWLJ5OxADV-k"
      }
    },
    {
      "cell_type": "markdown",
      "source": [
        "Tab properties"
      ],
      "metadata": {
        "id": "HqYrvrVkp_MN"
      }
    },
    {
      "cell_type": "code",
      "source": [
        "b=[1,2,3]\n",
        "b."
      ],
      "metadata": {
        "colab": {
          "base_uri": "https://localhost:8080/",
          "height": 108
        },
        "id": "LAOhClFtspat",
        "outputId": "41135370-55ea-4b2c-a04c-33d18b1a4eb3"
      },
      "execution_count": null,
      "outputs": [
        {
          "output_type": "error",
          "ename": "SyntaxError",
          "evalue": "invalid syntax (<ipython-input-9-bae8cfe05608>, line 2)",
          "traceback": [
            "\u001b[0;36m  File \u001b[0;32m\"<ipython-input-9-bae8cfe05608>\"\u001b[0;36m, line \u001b[0;32m2\u001b[0m\n\u001b[0;31m    b.\u001b[0m\n\u001b[0m      ^\u001b[0m\n\u001b[0;31mSyntaxError\u001b[0m\u001b[0;31m:\u001b[0m invalid syntax\n"
          ]
        }
      ]
    },
    {
      "cell_type": "markdown",
      "source": [
        "Introspection"
      ],
      "metadata": {
        "id": "7RyTW6oBtSPT"
      }
    },
    {
      "cell_type": "code",
      "source": [
        "def add_numbers(a, b):\n",
        "    \"\"\"\n",
        "    Add two numbers together\n",
        "\n",
        "    Returns\n",
        "    -------\n",
        "    the_sum : type of arguments\n",
        "    \"\"\"\n",
        "    return a + b"
      ],
      "metadata": {
        "id": "nf-cc5-P77Ld"
      },
      "execution_count": null,
      "outputs": []
    },
    {
      "cell_type": "code",
      "source": [
        "b?\n",
        "add_numbers?"
      ],
      "metadata": {
        "id": "HZtxsZGftWZq"
      },
      "execution_count": null,
      "outputs": []
    },
    {
      "cell_type": "markdown",
      "source": [
        "Language semantics\n",
        "Indentation, not braces\n",
        "\n",
        "Python uses whitespace (tabs or spaces) to structure code instead of using braces as in many other languages like R, C++, Java, and Perl. Consider a for loop from a sorting algorithm:"
      ],
      "metadata": {
        "id": "Vq1iACYX8fcF"
      }
    },
    {
      "cell_type": "code",
      "source": [
        "array=[2,5,7,9]\n",
        "pivot=3\n",
        "b = [6, 0, 4, 1]\n",
        "for x in array:\n",
        "    if x < pivot:\n",
        "        array.append(9)\n",
        "    else:\n",
        "        array.extend(b)\n",
        "print(array)"
      ],
      "metadata": {
        "id": "ii5GvmQE8hQ6"
      },
      "execution_count": null,
      "outputs": []
    },
    {
      "cell_type": "markdown",
      "source": [
        "o separate multiple statements on a single line:"
      ],
      "metadata": {
        "id": "nkFFRNdG9Af0"
      }
    },
    {
      "cell_type": "code",
      "source": [
        "a = 5; b = 6; c = 7"
      ],
      "metadata": {
        "id": "RJNgE4MD9BsY"
      },
      "execution_count": null,
      "outputs": []
    },
    {
      "cell_type": "markdown",
      "source": [
        "Variables and argument passing\n",
        "![pda3_0205.png](data:image/png;base64,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)\n",
        "\n",
        "When assigning a variable (or name) in Python, you are creating a reference to the object shown on the righthand side of the equals sign. In practical terms, consider a list of integers. n some languages, the assignment if b will cause the data [1, 2, 3] to be copied. In Python, a and b actually now refer to the same object, the original list [1, 2, 3]"
      ],
      "metadata": {
        "id": "XpIusyJ1iSv7"
      }
    },
    {
      "cell_type": "code",
      "source": [
        "a = [1, 2, 3]\n",
        "b=a\n",
        "print(b)\n",
        "a.append(4)\n",
        "print(b)"
      ],
      "metadata": {
        "colab": {
          "base_uri": "https://localhost:8080/"
        },
        "id": "1mlQxRL3icPO",
        "outputId": "9f6dc1bc-e009-4ca9-ed6c-a7b0e45864ae"
      },
      "execution_count": null,
      "outputs": [
        {
          "output_type": "stream",
          "name": "stdout",
          "text": [
            "[1, 2, 3]\n",
            "[1, 2, 3, 4]\n"
          ]
        }
      ]
    },
    {
      "cell_type": "markdown",
      "source": [
        "Mutable and immutable objects.Many objects in Python, such as lists, dictionaries, NumPy arrays, and most user-defined types (classes), are mutable. This means that the object or values that they contain can be modified:"
      ],
      "metadata": {
        "id": "mn2HAx4hGVvf"
      }
    },
    {
      "cell_type": "code",
      "source": [
        "a_list = [\"foo\", 2, [4, 5]]\n",
        "a_list[2] = (3, 4)\n",
        "print(a_list)\n",
        "\n",
        "a_tuple = (3, 5, (4, 5))\n",
        "a_tuple[1] = \"four\" #will generate an error"
      ],
      "metadata": {
        "colab": {
          "base_uri": "https://localhost:8080/",
          "height": 198
        },
        "id": "MJ_pvOmJGYmS",
        "outputId": "acf4b5dd-ff5c-4998-85f1-eee30d8b73e3"
      },
      "execution_count": null,
      "outputs": [
        {
          "output_type": "stream",
          "name": "stdout",
          "text": [
            "['foo', 2, (3, 4)]\n"
          ]
        },
        {
          "output_type": "error",
          "ename": "TypeError",
          "evalue": "'tuple' object does not support item assignment",
          "traceback": [
            "\u001b[0;31m---------------------------------------------------------------------------\u001b[0m",
            "\u001b[0;31mTypeError\u001b[0m                                 Traceback (most recent call last)",
            "\u001b[0;32m<ipython-input-7-8bc34b4cbe75>\u001b[0m in \u001b[0;36m<cell line: 0>\u001b[0;34m()\u001b[0m\n\u001b[1;32m      4\u001b[0m \u001b[0;34m\u001b[0m\u001b[0m\n\u001b[1;32m      5\u001b[0m \u001b[0ma_tuple\u001b[0m \u001b[0;34m=\u001b[0m \u001b[0;34m(\u001b[0m\u001b[0;36m3\u001b[0m\u001b[0;34m,\u001b[0m \u001b[0;36m5\u001b[0m\u001b[0;34m,\u001b[0m \u001b[0;34m(\u001b[0m\u001b[0;36m4\u001b[0m\u001b[0;34m,\u001b[0m \u001b[0;36m5\u001b[0m\u001b[0;34m)\u001b[0m\u001b[0;34m)\u001b[0m\u001b[0;34m\u001b[0m\u001b[0;34m\u001b[0m\u001b[0m\n\u001b[0;32m----> 6\u001b[0;31m \u001b[0ma_tuple\u001b[0m\u001b[0;34m[\u001b[0m\u001b[0;36m1\u001b[0m\u001b[0;34m]\u001b[0m \u001b[0;34m=\u001b[0m \u001b[0;34m\"four\"\u001b[0m \u001b[0;31m#will generate an error\u001b[0m\u001b[0;34m\u001b[0m\u001b[0;34m\u001b[0m\u001b[0m\n\u001b[0m",
            "\u001b[0;31mTypeError\u001b[0m: 'tuple' object does not support item assignment"
          ]
        }
      ]
    }
  ]
}