{
  "nbformat": 4,
  "nbformat_minor": 0,
  "metadata": {
    "colab": {
      "provenance": [],
      "authorship_tag": "ABX9TyOkM42irc8O9y9SbJ2pIgNr",
      "include_colab_link": true
    },
    "kernelspec": {
      "name": "python3",
      "display_name": "Python 3"
    },
    "language_info": {
      "name": "python"
    }
  },
  "cells": [
    {
      "cell_type": "markdown",
      "metadata": {
        "id": "view-in-github",
        "colab_type": "text"
      },
      "source": [
        "<a href=\"https://colab.research.google.com/github/tarkeshsingh/Python-for-Sensorimotor-Neuroscience/blob/main/L1_Numpy_Matplotlib.ipynb\" target=\"_parent\"><img src=\"https://colab.research.google.com/assets/colab-badge.svg\" alt=\"Open In Colab\"/></a>"
      ]
    },
    {
      "cell_type": "markdown",
      "source": [
        "# Introduction to Numpy and MatplotLib"
      ],
      "metadata": {
        "id": "Q-Sy7S4Z3Uy9"
      }
    },
    {
      "cell_type": "code",
      "execution_count": null,
      "metadata": {
        "id": "LXqQRE6Fa_oZ"
      },
      "outputs": [],
      "source": [
        "#Introduction to numpy and matplotlib\n",
        "import numpy as np\n",
        "import matplotlib.pyplot as plt"
      ]
    },
    {
      "cell_type": "markdown",
      "source": [
        "Why use numpy? NumPy is faster than regular Python code because its C-based algorithms avoid overhead present with regular interpreted Python code"
      ],
      "metadata": {
        "id": "h9AtHe12Ryn2"
      }
    },
    {
      "cell_type": "code",
      "source": [
        "my_arr = np.arange(1_000_000)\n",
        "my_list = list(range(1_000_000))\n",
        "%timeit my_arr2 = my_arr * 2 #note that %timeit is a command in Python (not a comment as iin MATLAB)\n",
        "%timeit my_list2 = [x * 2 for x in my_list]"
      ],
      "metadata": {
        "colab": {
          "base_uri": "https://localhost:8080/"
        },
        "id": "FQy6YCcPR0cR",
        "outputId": "9e2a3747-0d64-445a-8af6-825d0da2363c"
      },
      "execution_count": null,
      "outputs": [
        {
          "output_type": "stream",
          "name": "stdout",
          "text": [
            "1.23 ms ± 115 µs per loop (mean ± std. dev. of 7 runs, 1000 loops each)\n",
            "51.5 ms ± 524 µs per loop (mean ± std. dev. of 7 runs, 10 loops each)\n"
          ]
        }
      ]
    },
    {
      "cell_type": "markdown",
      "source": [
        "1) Introduction to Numpy\n",
        "The main purpose of NumPy is to provide an object, the numpy.array that allows for fast mathematical operations on multiple numbers at the same time without the use of for loops."
      ],
      "metadata": {
        "id": "FQ9vv7vscVla"
      }
    },
    {
      "cell_type": "code",
      "source": [
        "x = np.array([1,3,5,6]) #that's how we declare a simple 1d array\n",
        "print(x)    #that's how we print an array"
      ],
      "metadata": {
        "colab": {
          "base_uri": "https://localhost:8080/"
        },
        "id": "Msqpp8yLb1xL",
        "outputId": "d72c62fb-733c-41f6-d958-f0a08ca381ff"
      },
      "execution_count": null,
      "outputs": [
        {
          "output_type": "stream",
          "name": "stdout",
          "text": [
            "[1 3 5 6]\n"
          ]
        }
      ]
    },
    {
      "cell_type": "code",
      "source": [
        "#Let's square every element in the array x and assign it to y. Then let's create a vector z which takes the exponentials of the cosine of x\n",
        "x = np.array([1,3,5,6])\n",
        "y=x**2\n",
        "print(y)\n",
        "z=np.exp(np.sin(x))\n",
        "print(z)\n",
        "w=1/x  #note that you don't need to do 1/.x (like in MATLAB for example)\n",
        "print(w)"
      ],
      "metadata": {
        "colab": {
          "base_uri": "https://localhost:8080/"
        },
        "id": "dMkxMmi3dDPn",
        "outputId": "a70ae280-1278-4bc7-f01e-e3ce2c7147e6"
      },
      "execution_count": null,
      "outputs": [
        {
          "output_type": "stream",
          "name": "stdout",
          "text": [
            "[ 1  9 25 36]\n",
            "[2.31977682 1.15156284 0.383305   0.75622563]\n",
            "[1.         0.33333333 0.2        0.16666667]\n"
          ]
        }
      ]
    },
    {
      "cell_type": "markdown",
      "source": [
        "For plotting, it can be useful to create arrays of evenly spaced data. There are two ways to do this but they produce slightly different results.**PRINT the results and tell me what the main difference is. ✅**"
      ],
      "metadata": {
        "id": "aolASuk0dqg_"
      }
    },
    {
      "cell_type": "code",
      "source": [
        "x = np.linspace(0,1,101) #np.linspace(start, stop, num): Returns num evenly spaced values over the interval [start, stop].\n",
        "y = np.arange(0,1,0.01) #np.arange(start, stop, step): Returns evenly spaced values within a given interval. The step argument specifies the spacing between values.\n",
        "print(x)\n",
        "print(y)"
      ],
      "metadata": {
        "colab": {
          "base_uri": "https://localhost:8080/"
        },
        "id": "VsqCX0GYdrpY",
        "outputId": "9d83b33d-9342-4bf8-e521-1d80d7548d76"
      },
      "execution_count": null,
      "outputs": [
        {
          "output_type": "stream",
          "name": "stdout",
          "text": [
            "[0.   0.01 0.02 0.03 0.04 0.05 0.06 0.07 0.08 0.09 0.1  0.11 0.12 0.13\n",
            " 0.14 0.15 0.16 0.17 0.18 0.19 0.2  0.21 0.22 0.23 0.24 0.25 0.26 0.27\n",
            " 0.28 0.29 0.3  0.31 0.32 0.33 0.34 0.35 0.36 0.37 0.38 0.39 0.4  0.41\n",
            " 0.42 0.43 0.44 0.45 0.46 0.47 0.48 0.49 0.5  0.51 0.52 0.53 0.54 0.55\n",
            " 0.56 0.57 0.58 0.59 0.6  0.61 0.62 0.63 0.64 0.65 0.66 0.67 0.68 0.69\n",
            " 0.7  0.71 0.72 0.73 0.74 0.75 0.76 0.77 0.78 0.79 0.8  0.81 0.82 0.83\n",
            " 0.84 0.85 0.86 0.87 0.88 0.89 0.9  0.91 0.92 0.93 0.94 0.95 0.96 0.97\n",
            " 0.98 0.99 1.  ]\n",
            "[0.   0.01 0.02 0.03 0.04 0.05 0.06 0.07 0.08 0.09 0.1  0.11 0.12 0.13\n",
            " 0.14 0.15 0.16 0.17 0.18 0.19 0.2  0.21 0.22 0.23 0.24 0.25 0.26 0.27\n",
            " 0.28 0.29 0.3  0.31 0.32 0.33 0.34 0.35 0.36 0.37 0.38 0.39 0.4  0.41\n",
            " 0.42 0.43 0.44 0.45 0.46 0.47 0.48 0.49 0.5  0.51 0.52 0.53 0.54 0.55\n",
            " 0.56 0.57 0.58 0.59 0.6  0.61 0.62 0.63 0.64 0.65 0.66 0.67 0.68 0.69\n",
            " 0.7  0.71 0.72 0.73 0.74 0.75 0.76 0.77 0.78 0.79 0.8  0.81 0.82 0.83\n",
            " 0.84 0.85 0.86 0.87 0.88 0.89 0.9  0.91 0.92 0.93 0.94 0.95 0.96 0.97\n",
            " 0.98 0.99]\n"
          ]
        }
      ]
    },
    {
      "cell_type": "markdown",
      "source": [
        "Then you can apply a mathematical operation to this data"
      ],
      "metadata": {
        "id": "N5rqDsv6ewZg"
      }
    },
    {
      "cell_type": "code",
      "source": [
        "w = np.sin(np.pi * x)\n",
        "z = np.sin(np.pi * y)"
      ],
      "metadata": {
        "id": "8bqTjfPwe1qf"
      },
      "execution_count": null,
      "outputs": []
    },
    {
      "cell_type": "markdown",
      "source": [
        "You can also define your own function, and feed in a numpy array as one of the arguments (more on functions later). **BUT WHAT ARE FUNCTIONS?**: ✅"
      ],
      "metadata": {
        "id": "o6965lsRftpr"
      }
    },
    {
      "cell_type": "code",
      "source": [
        "def f(x,a,b): #this is the basic syntax of how a function is defined in Python\n",
        "  return a*x**2+b\n",
        "y=f(x,2,1)\n",
        "print(y)"
      ],
      "metadata": {
        "colab": {
          "base_uri": "https://localhost:8080/"
        },
        "id": "p7zCQ9p7f1DH",
        "outputId": "07bd6bbb-0bd0-455a-c8d0-c1652fdb5096"
      },
      "execution_count": null,
      "outputs": [
        {
          "output_type": "stream",
          "name": "stdout",
          "text": [
            "[1.     1.0002 1.0008 1.0018 1.0032 1.005  1.0072 1.0098 1.0128 1.0162\n",
            " 1.02   1.0242 1.0288 1.0338 1.0392 1.045  1.0512 1.0578 1.0648 1.0722\n",
            " 1.08   1.0882 1.0968 1.1058 1.1152 1.125  1.1352 1.1458 1.1568 1.1682\n",
            " 1.18   1.1922 1.2048 1.2178 1.2312 1.245  1.2592 1.2738 1.2888 1.3042\n",
            " 1.32   1.3362 1.3528 1.3698 1.3872 1.405  1.4232 1.4418 1.4608 1.4802\n",
            " 1.5    1.5202 1.5408 1.5618 1.5832 1.605  1.6272 1.6498 1.6728 1.6962\n",
            " 1.72   1.7442 1.7688 1.7938 1.8192 1.845  1.8712 1.8978 1.9248 1.9522\n",
            " 1.98   2.0082 2.0368 2.0658 2.0952 2.125  2.1552 2.1858 2.2168 2.2482\n",
            " 2.28   2.3122 2.3448 2.3778 2.4112 2.445  2.4792 2.5138 2.5488 2.5842\n",
            " 2.62   2.6562 2.6928 2.7298 2.7672 2.805  2.8432 2.8818 2.9208 2.9602\n",
            " 3.    ]\n"
          ]
        }
      ]
    },
    {
      "cell_type": "markdown",
      "source": [
        "2) Introduction to Matplotlib. We have already added this library to our session.\n",
        "Now let's create a very basic plot"
      ],
      "metadata": {
        "id": "kaPKhbwrkpem"
      }
    },
    {
      "cell_type": "code",
      "source": [
        "plt.plot(x,y)"
      ],
      "metadata": {
        "colab": {
          "base_uri": "https://localhost:8080/",
          "height": 448
        },
        "id": "DAsGWl51ks7p",
        "outputId": "da0c3c8e-cc57-4e35-b87e-f96a4fc3cf05"
      },
      "execution_count": null,
      "outputs": [
        {
          "output_type": "execute_result",
          "data": {
            "text/plain": [
              "[<matplotlib.lines.Line2D at 0x783f6162abd0>]"
            ]
          },
          "metadata": {},
          "execution_count": 9
        },
        {
          "output_type": "display_data",
          "data": {
            "text/plain": [
              "<Figure size 640x480 with 1 Axes>"
            ],
            "image/png": "[encoded data removed]"
          },
          "metadata": {}
        }
      ]
    },
    {
      "cell_type": "markdown",
      "source": [
        "Let's make the plot look fancier."
      ],
      "metadata": {
        "id": "MWbgxwd7luuo"
      }
    },
    {
      "cell_type": "code",
      "source": [
        "plt.figure(figsize=(6,3))\n",
        "plt.plot(x,y,'o--')\n",
        "plt.xlabel('x')\n",
        "plt.ylabel('y')\n",
        "plt.title('x vs y')\n",
        "plt.grid()"
      ],
      "metadata": {
        "colab": {
          "base_uri": "https://localhost:8080/",
          "height": 333
        },
        "id": "rtPGOdWblxpH",
        "outputId": "e1b46658-4ace-456c-8189-09d52ed4c791"
      },
      "execution_count": null,
      "outputs": [
        {
          "output_type": "display_data",
          "data": {
            "text/plain": [
              "<Figure size 600x300 with 1 Axes>"
            ],
            "image/png": "[encoded data removed]"
          },
          "metadata": {}
        }
      ]
    },
    {
      "cell_type": "markdown",
      "source": [
        "Access particular elements"
      ],
      "metadata": {
        "id": "-CwL4DwGm-mg"
      }
    },
    {
      "cell_type": "code",
      "source": [
        "y[-1]"
      ],
      "metadata": {
        "colab": {
          "base_uri": "https://localhost:8080/"
        },
        "id": "H3yIBSu9nDC3",
        "outputId": "cf639e1f-c2bf-4ea5-ae8d-50fbc25a2f89"
      },
      "execution_count": null,
      "outputs": [
        {
          "output_type": "execute_result",
          "data": {
            "text/plain": [
              "3.0"
            ]
          },
          "metadata": {},
          "execution_count": 11
        }
      ]
    },
    {
      "cell_type": "markdown",
      "source": [
        "2) In-class problem\n",
        "Create a vector x between 0 and 2pi. create a vector y of sin values of x multiplied by 2*pi*omega (where omega =3) and plot it in red color ✅\n"
      ],
      "metadata": {
        "id": "EUEWFl9X5Wi6"
      }
    },
    {
      "cell_type": "code",
      "source": [
        "x=np.arange(0,2*np.pi,0.01)\n",
        "omega=3\n",
        "y=np.sin(2*np.pi*omega*x)\n",
        "plt.plot(x,y,'g')"
      ],
      "metadata": {
        "colab": {
          "base_uri": "https://localhost:8080/",
          "height": 448
        },
        "id": "jPzcvkFN5-6k",
        "outputId": "d3ea8d80-3396-4746-a259-f00fce6f439f"
      },
      "execution_count": null,
      "outputs": [
        {
          "output_type": "execute_result",
          "data": {
            "text/plain": [
              "[<matplotlib.lines.Line2D at 0x783f5d986e10>]"
            ]
          },
          "metadata": {},
          "execution_count": 12
        },
        {
          "output_type": "display_data",
          "data": {
            "text/plain": [
              "<Figure size 640x480 with 1 Axes>"
            ],
            "image/png": "[encoded data removed]"
          },
          "metadata": {}
        }
      ]
    },
    {
      "cell_type": "markdown",
      "source": [
        "3) Multidimensional arrays.\n",
        "Let's take a look at how Python handles multidimensional arrays"
      ],
      "metadata": {
        "id": "p4KtGeDHeqYA"
      }
    },
    {
      "cell_type": "code",
      "source": [
        "data = np.array([[1.5, -0.1, 3], [0.2, -3, 6.5]])\n",
        "print(data)\n",
        "data2=data+data #adds matrices\n",
        "print()\n",
        "print(data2)\n",
        "inv_data=1/data #inverse of each elemeent of data. again different from MATLAB\n",
        "print(inv_data)\n",
        "twoDOnes=np.ones((3, 6)) #creates a 2D matrix of 1\n",
        "print(twoDOnes)"
      ],
      "metadata": {
        "colab": {
          "base_uri": "https://localhost:8080/"
        },
        "id": "kOtOJZdMe2yh",
        "outputId": "86d8f5a4-e132-4dec-da1d-4224cda49d5f"
      },
      "execution_count": null,
      "outputs": [
        {
          "output_type": "stream",
          "name": "stdout",
          "text": [
            "[[ 1.5 -0.1  3. ]\n",
            " [ 0.2 -3.   6.5]]\n",
            "\n",
            "[[ 3.  -0.2  6. ]\n",
            " [ 0.4 -6.  13. ]]\n",
            "[[  0.66666667 -10.           0.33333333]\n",
            " [  5.          -0.33333333   0.15384615]]\n",
            "[[1. 1. 1. 1. 1. 1.]\n",
            " [1. 1. 1. 1. 1. 1.]\n",
            " [1. 1. 1. 1. 1. 1.]]\n"
          ]
        }
      ]
    },
    {
      "cell_type": "markdown",
      "source": [
        "Size, dimensions, and type of nD array"
      ],
      "metadata": {
        "id": "dqd8lBLJhqPI"
      }
    },
    {
      "cell_type": "code",
      "source": [
        "print(data.shape) #size of each dimension of array\n",
        "print(data.ndim) #this is a 2d array\n",
        "print(data.dtype) #dtype is used to describe the data type of elements in a NumPy array.\n",
        "data1 = [6, 7.5, 8, 0.4, 1] #is a list. has no data type.\n",
        "arr1 = np.array(data1) #is an array and has a data type. try arr1.dtype"
      ],
      "metadata": {
        "colab": {
          "base_uri": "https://localhost:8080/"
        },
        "id": "-_n7cc0Sh4bX",
        "outputId": "be953f21-0544-40ad-f4c6-c92f7d23d285"
      },
      "execution_count": null,
      "outputs": [
        {
          "output_type": "stream",
          "name": "stdout",
          "text": [
            "(2, 3)\n",
            "2\n",
            "float64\n"
          ]
        }
      ]
    },
    {
      "cell_type": "markdown",
      "source": [
        "You can change data types also easily"
      ],
      "metadata": {
        "id": "T8x9HjY5ksNI"
      }
    },
    {
      "cell_type": "code",
      "source": [
        "arr = np.array([3.7, -1.2, -2.6, 0.5, 12.9, 10.1])\n",
        "print(arr)\n",
        "print(arr.dtype)\n",
        "arr2=arr.astype(np.int32) #converts the data into an integer type\n",
        "print(arr2)\n",
        "print(arr2.dtype)\n",
        "#we can compare values in the two arrays\n",
        "arr2 > arr #more on Boolean processing later"
      ],
      "metadata": {
        "colab": {
          "base_uri": "https://localhost:8080/"
        },
        "id": "pEPnrz72k_3k",
        "outputId": "8dbce0c8-323b-4517-ed19-e78e8a5c7098"
      },
      "execution_count": null,
      "outputs": [
        {
          "output_type": "stream",
          "name": "stdout",
          "text": [
            "[ 3.7 -1.2 -2.6  0.5 12.9 10.1]\n",
            "float64\n",
            "[ 3 -1 -2  0 12 10]\n",
            "int32\n"
          ]
        },
        {
          "output_type": "execute_result",
          "data": {
            "text/plain": [
              "array([False,  True,  True, False, False, False])"
            ]
          },
          "metadata": {},
          "execution_count": 16
        }
      ]
    },
    {
      "cell_type": "markdown",
      "source": [
        "Basic Indexing and Slicing. This is very different from other languages, such ass MATLAB. Indexing in Python starts from 0 (see below)"
      ],
      "metadata": {
        "id": "vfhkJzmcl-k2"
      }
    },
    {
      "cell_type": "markdown",
      "source": [
        "I am going to show a unique feature of how Python copies arrays. An important first distinction from Python's built-in lists is that array slices are views on the original array. This means that the data is not copied, and any modifications to the view will be reflected in the source array."
      ],
      "metadata": {
        "id": "DKmR9j58wvby"
      }
    },
    {
      "cell_type": "code",
      "source": [
        "arr = np.arange(10)\n",
        "print(arr)\n",
        "arr[5:8] = 12\n",
        "print(arr)"
      ],
      "metadata": {
        "colab": {
          "base_uri": "https://localhost:8080/"
        },
        "id": "3sXM4ZbNxJHR",
        "outputId": "b493c53b-d54a-4fdc-cfb6-367b1963ef8f"
      },
      "execution_count": null,
      "outputs": [
        {
          "output_type": "stream",
          "name": "stdout",
          "text": [
            "[0 1 2 3 4 5 6 7 8 9]\n",
            "[ 0  1  2  3  4 12 12 12  8  9]\n"
          ]
        }
      ]
    },
    {
      "cell_type": "code",
      "source": [
        "#now let's take a slice of arr\n",
        "arr_slice = arr[5:8]\n",
        "print(arr_slice)\n",
        "#but when I change values in arr_slice, the mutations are reflected in the original array arr\n",
        "arr_slice[:] = 667\n",
        "print(arr)"
      ],
      "metadata": {
        "colab": {
          "base_uri": "https://localhost:8080/"
        },
        "id": "urS08xztxc89",
        "outputId": "0eb2a834-1aef-41b5-ac9f-696482a2ea41"
      },
      "execution_count": null,
      "outputs": [
        {
          "output_type": "stream",
          "name": "stdout",
          "text": [
            "[12 12 12]\n",
            "[  0   1   2   3   4 667 667 667   8   9]\n"
          ]
        }
      ]
    },
    {
      "cell_type": "markdown",
      "source": [
        "You might be surprised by this, especially if you have used other array programming languages that copy data more eagerly. As NumPy has been designed to be able to work with very large arrays, you could imagine performance and memory problems if NumPy insisted on always copying data. But this can be avoided by using something like arr[5:8].copy()"
      ],
      "metadata": {
        "id": "dlIhvBbDx6AJ"
      }
    },
    {
      "cell_type": "code",
      "source": [
        "arr_slice2 = arr[5:8].copy()\n",
        "print(arr_slice2)\n",
        "arr_slice2[:] = 397\n",
        "print(arr)"
      ],
      "metadata": {
        "colab": {
          "base_uri": "https://localhost:8080/"
        },
        "id": "uYUXVrjpyeq4",
        "outputId": "64b28001-63ae-4c94-a1b9-8924ef6cd283"
      },
      "execution_count": null,
      "outputs": [
        {
          "output_type": "stream",
          "name": "stdout",
          "text": [
            "[667 667 667]\n",
            "[  0   1   2   3   4 667 667 667   8   9]\n"
          ]
        }
      ]
    },
    {
      "cell_type": "markdown",
      "source": [
        "See Indexing elements in a NumPy array for an illustration of indexing on a two-dimensional array. Think of axis 0 as the \"rows\" of the array and axis 1 as the \"columns.\""
      ],
      "metadata": {
        "id": "csDwndo1zL12"
      }
    },
    {
      "cell_type": "markdown",
      "source": [
        "![Indexing.png](data:image/png;base64,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)"
      ],
      "metadata": {
        "id": "sn_J7Cx7veAM"
      }
    },
    {
      "cell_type": "code",
      "source": [
        "arr2d = np.array([[1, 2, 3], [4, 5, 6], [7, 8, 9]])\n",
        "print(arr2d)\n"
      ],
      "metadata": {
        "colab": {
          "base_uri": "https://localhost:8080/"
        },
        "id": "zwC3R4wYvplx",
        "outputId": "497df575-6b33-4e2e-a1a5-471b0120b40d"
      },
      "execution_count": null,
      "outputs": [
        {
          "output_type": "stream",
          "name": "stdout",
          "text": [
            "[[1 2 3]\n",
            " [4 5 6]\n",
            " [7 8 9]]\n"
          ]
        }
      ]
    },
    {
      "cell_type": "code",
      "source": [
        "arr2d[1][2] #which element do you think this would give me\n",
        "arr2d[:2]\n"
      ],
      "metadata": {
        "colab": {
          "base_uri": "https://localhost:8080/"
        },
        "id": "dW4lSf6wwBfg",
        "outputId": "7d638364-f703-4a45-dcdc-fd7c5eabf289"
      },
      "execution_count": null,
      "outputs": [
        {
          "output_type": "execute_result",
          "data": {
            "text/plain": [
              "array([[1, 2, 3],\n",
              "       [4, 5, 6]])"
            ]
          },
          "metadata": {},
          "execution_count": 23
        }
      ]
    },
    {
      "cell_type": "markdown",
      "source": [
        "Python also recognizes negative indices for matrices"
      ],
      "metadata": {
        "id": "a4C9CZeo_zyC"
      }
    },
    {
      "cell_type": "code",
      "source": [
        "arr2d[-1][0] #the -1 here refers to the last row. same as arr2d[-1,0]\n"
      ],
      "metadata": {
        "colab": {
          "base_uri": "https://localhost:8080/"
        },
        "id": "yYCK8n4L_mWJ",
        "outputId": "ee98e5f1-13cf-4826-d36d-a51f63912ec8"
      },
      "execution_count": null,
      "outputs": [
        {
          "output_type": "execute_result",
          "data": {
            "text/plain": [
              "7"
            ]
          },
          "metadata": {},
          "execution_count": 24
        }
      ]
    },
    {
      "cell_type": "markdown",
      "source": [
        "Indexing like this gives you columns:"
      ],
      "metadata": {
        "id": "4dTfUjjBkXbA"
      }
    },
    {
      "cell_type": "code",
      "source": [
        "arr2d[:,-1]"
      ],
      "metadata": {
        "colab": {
          "base_uri": "https://localhost:8080/"
        },
        "id": "GBdLEzqDkafX",
        "outputId": "94d3a78d-f80a-4cc2-c4e7-278c2d2312b3"
      },
      "execution_count": null,
      "outputs": [
        {
          "output_type": "execute_result",
          "data": {
            "text/plain": [
              "array([3, 6, 9])"
            ]
          },
          "metadata": {},
          "execution_count": 25
        }
      ]
    },
    {
      "cell_type": "markdown",
      "source": [
        "Take the transpose of a matrix"
      ],
      "metadata": {
        "id": "EkqR_UyKkww6"
      }
    },
    {
      "cell_type": "code",
      "source": [
        "y=arr2d.T\n",
        "print(y)"
      ],
      "metadata": {
        "colab": {
          "base_uri": "https://localhost:8080/"
        },
        "id": "dPrys7f2kztO",
        "outputId": "5682f84a-b5d8-4257-bcce-2b0b6372f7a9"
      },
      "execution_count": null,
      "outputs": [
        {
          "output_type": "stream",
          "name": "stdout",
          "text": [
            "[[1 4 7]\n",
            " [2 5 8]\n",
            " [3 6 9]]\n"
          ]
        }
      ]
    },
    {
      "cell_type": "markdown",
      "source": [
        "![indexing2D.png](data:image/png;base64,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)"
      ],
      "metadata": {
        "id": "6DIwczzT04zA"
      }
    },
    {
      "cell_type": "markdown",
      "source": [
        "Python also allows strategic use of colons. arr2d[:2,-1] here :2 implies 1st two rows and -1 implies the last column. arr2d[:1,1:]. Here :1 implies the first row and 1: implies starting from the 2nd (not 1st) column to end. Python is slightly different with its style, but once you get it. It makes a lot of sense."
      ],
      "metadata": {
        "id": "UroYypaXAkhi"
      }
    },
    {
      "cell_type": "code",
      "source": [
        "arrslice=arr2d[:2,-1]\n",
        "print(arrslice)\n",
        "arrslice2=arr2d[:2,1:]\n",
        "print(arrslice2)"
      ],
      "metadata": {
        "colab": {
          "base_uri": "https://localhost:8080/"
        },
        "id": "8zIgaVqCBRP0",
        "outputId": "5484baa7-93ab-4467-a33a-610d6ac24236"
      },
      "execution_count": null,
      "outputs": [
        {
          "output_type": "stream",
          "name": "stdout",
          "text": [
            "[3 6]\n",
            "[[2 3]\n",
            " [5 6]]\n"
          ]
        }
      ]
    },
    {
      "cell_type": "markdown",
      "source": [
        "4) Boolean Indexing. I believe this is where Python is superior than many other interpreted languages"
      ],
      "metadata": {
        "id": "JWN_5FgHCLRt"
      }
    },
    {
      "cell_type": "code",
      "source": [
        "names = np.array([\"Bob\", \"Joe\", \"Will\", \"Bob\", \"Will\", \"Joe\", \"Joe\"])\n",
        "data = np.array([[4, 7], [0, 2], [-5, 6], [0, 0], [1, 2],[-12, -4], [3, 4]])\n",
        "print(names)\n",
        "print(data)"
      ],
      "metadata": {
        "colab": {
          "base_uri": "https://localhost:8080/"
        },
        "id": "f8SHB0awCZ8e",
        "outputId": "cd45a9c2-ce84-4100-cf11-93da1dccbe08"
      },
      "execution_count": null,
      "outputs": [
        {
          "output_type": "stream",
          "name": "stdout",
          "text": [
            "['Bob' 'Joe' 'Will' 'Bob' 'Will' 'Joe' 'Joe']\n",
            "[[  4   7]\n",
            " [  0   2]\n",
            " [ -5   6]\n",
            " [  0   0]\n",
            " [  1   2]\n",
            " [-12  -4]\n",
            " [  3   4]]\n"
          ]
        }
      ]
    },
    {
      "cell_type": "markdown",
      "source": [
        "Let's select all rows in data based on the columns of names where name ==Bob"
      ],
      "metadata": {
        "id": "8Pe_GDTXCtgE"
      }
    },
    {
      "cell_type": "code",
      "source": [
        "print(names == \"Bob\")\n",
        "print(data[names == \"Bob\"])\n",
        "print(data[[0,3],])"
      ],
      "metadata": {
        "colab": {
          "base_uri": "https://localhost:8080/"
        },
        "id": "6KL3aRUHC55T",
        "outputId": "0b15a9c5-d2c8-4f18-fa92-a725580118e1"
      },
      "execution_count": null,
      "outputs": [
        {
          "output_type": "stream",
          "name": "stdout",
          "text": [
            "[ True False False  True False False False]\n",
            "[[4 7]\n",
            " [0 0]]\n",
            "[[4 7]\n",
            " [0 0]]\n"
          ]
        }
      ]
    },
    {
      "cell_type": "markdown",
      "source": [
        "**In-class problem.** ✅ Select all rows where the name is not Bob and only the 2nd column of data"
      ],
      "metadata": {
        "id": "gwEMBQiQDPl3"
      }
    },
    {
      "cell_type": "code",
      "source": [
        "x=data[~(names == \"Bob\"), -1]\n",
        "y=data[~(names == \"Bob\"), 1:]\n",
        "print(x);print(y)"
      ],
      "metadata": {
        "colab": {
          "base_uri": "https://localhost:8080/"
        },
        "id": "urfaOCwJDX7d",
        "outputId": "cea25504-7563-4d64-ae63-1f179ab0cf20"
      },
      "execution_count": null,
      "outputs": [
        {
          "output_type": "stream",
          "name": "stdout",
          "text": [
            "[ 2  6  2 -4  4]\n",
            "[[ 2]\n",
            " [ 6]\n",
            " [ 2]\n",
            " [-4]\n",
            " [ 4]]\n"
          ]
        }
      ]
    },
    {
      "cell_type": "markdown",
      "source": [
        "The ~ operator can be useful when you want to invert a Boolean array referenced by a variable.\n",
        "**The Python keywords and and or do not work with Boolean arrays. Use & (and) and | (or) instead.**"
      ],
      "metadata": {
        "id": "M8rRhgagEsJ7"
      }
    },
    {
      "cell_type": "code",
      "source": [
        "cond = names == \"Bob\"\n",
        "print(cond)\n",
        "data2=data[~cond] #question. what happens if we do this instead data2=data[~cond].copy\n",
        "print(data2)\n",
        "mask = (names == \"Joe\") | (names == \"Will\") #| is the or operator. This is the same as MATLAB\n",
        "print(mask)\n",
        "data3=data[mask]\n",
        "print(data3)"
      ],
      "metadata": {
        "colab": {
          "base_uri": "https://localhost:8080/"
        },
        "id": "VpbifO85FFc8",
        "outputId": "5e08c7c1-dbbe-4917-82da-2c19f56425c7"
      },
      "execution_count": null,
      "outputs": [
        {
          "output_type": "stream",
          "name": "stdout",
          "text": [
            "[ True False False  True False False False]\n",
            "[[  0   2]\n",
            " [ -5   6]\n",
            " [  1   2]\n",
            " [-12  -4]\n",
            " [  3   4]]\n",
            "[False  True  True False  True  True  True]\n",
            "[[  0   2]\n",
            " [ -5   6]\n",
            " [  1   2]\n",
            " [-12  -4]\n",
            " [  3   4]]\n"
          ]
        }
      ]
    },
    {
      "cell_type": "markdown",
      "source": [
        "5) Boolean indexing with arrays. Other things that you can do are use Boolean indices to change values"
      ],
      "metadata": {
        "id": "Ff9guNsIfqz2"
      }
    },
    {
      "cell_type": "code",
      "source": [
        "data[data < 0] = 0   #To set all of the negative values in data to 0, we need only do\n",
        "print(data)\n",
        "data[names != \"Joe\"] = 7. # we can also set whole rows or columns using a one-dimensional Boolean array\n",
        "print(data)"
      ],
      "metadata": {
        "colab": {
          "base_uri": "https://localhost:8080/"
        },
        "id": "IS2wHIGafx23",
        "outputId": "52e6995b-98d8-45c8-d17f-d78aca690679"
      },
      "execution_count": null,
      "outputs": [
        {
          "output_type": "stream",
          "name": "stdout",
          "text": [
            "[[4 7]\n",
            " [0 2]\n",
            " [0 6]\n",
            " [0 0]\n",
            " [1 2]\n",
            " [0 0]\n",
            " [3 4]]\n",
            "[[7 7]\n",
            " [0 2]\n",
            " [7 7]\n",
            " [7 7]\n",
            " [7 7]\n",
            " [0 0]\n",
            " [3 4]]\n"
          ]
        }
      ]
    },
    {
      "cell_type": "markdown",
      "source": [
        "More Boolean operations. Some of the most useful features of the numpy array is boolean indexing. For example, suppose I create an array of evenly spaced values between 1 and 4 and then plot it."
      ],
      "metadata": {
        "id": "MZ-CBRZogGes"
      }
    },
    {
      "cell_type": "code",
      "source": [
        "x = np.linspace(1, 4, 100)\n",
        "y = np.sin(x)\n",
        "plt.plot(x,y)"
      ],
      "metadata": {
        "colab": {
          "base_uri": "https://localhost:8080/",
          "height": 448
        },
        "id": "oFTmIc5OjqRZ",
        "outputId": "8962146c-9552-4bd7-969d-713645f24122"
      },
      "execution_count": null,
      "outputs": [
        {
          "output_type": "execute_result",
          "data": {
            "text/plain": [
              "[<matplotlib.lines.Line2D at 0x783f612fa9d0>]"
            ]
          },
          "metadata": {},
          "execution_count": 39
        },
        {
          "output_type": "display_data",
          "data": {
            "text/plain": [
              "<Figure size 640x480 with 1 Axes>"
            ],
            "image/png": "[encoded data removed]"
          },
          "metadata": {}
        }
      ]
    },
    {
      "cell_type": "markdown",
      "source": [
        "The following evaluates 𝑥>2 for all points in the x array"
      ],
      "metadata": {
        "id": "TRThPueelB5l"
      }
    },
    {
      "cell_type": "code",
      "source": [
        "print(x)\n",
        "x>2"
      ],
      "metadata": {
        "colab": {
          "base_uri": "https://localhost:8080/"
        },
        "id": "6XmKDDoilCv8",
        "outputId": "384ecfec-c043-4c55-ec2f-1aeda2ba83ba"
      },
      "execution_count": null,
      "outputs": [
        {
          "output_type": "stream",
          "name": "stdout",
          "text": [
            "[1.         1.03030303 1.06060606 1.09090909 1.12121212 1.15151515\n",
            " 1.18181818 1.21212121 1.24242424 1.27272727 1.3030303  1.33333333\n",
            " 1.36363636 1.39393939 1.42424242 1.45454545 1.48484848 1.51515152\n",
            " 1.54545455 1.57575758 1.60606061 1.63636364 1.66666667 1.6969697\n",
            " 1.72727273 1.75757576 1.78787879 1.81818182 1.84848485 1.87878788\n",
            " 1.90909091 1.93939394 1.96969697 2.         2.03030303 2.06060606\n",
            " 2.09090909 2.12121212 2.15151515 2.18181818 2.21212121 2.24242424\n",
            " 2.27272727 2.3030303  2.33333333 2.36363636 2.39393939 2.42424242\n",
            " 2.45454545 2.48484848 2.51515152 2.54545455 2.57575758 2.60606061\n",
            " 2.63636364 2.66666667 2.6969697  2.72727273 2.75757576 2.78787879\n",
            " 2.81818182 2.84848485 2.87878788 2.90909091 2.93939394 2.96969697\n",
            " 3.         3.03030303 3.06060606 3.09090909 3.12121212 3.15151515\n",
            " 3.18181818 3.21212121 3.24242424 3.27272727 3.3030303  3.33333333\n",
            " 3.36363636 3.39393939 3.42424242 3.45454545 3.48484848 3.51515152\n",
            " 3.54545455 3.57575758 3.60606061 3.63636364 3.66666667 3.6969697\n",
            " 3.72727273 3.75757576 3.78787879 3.81818182 3.84848485 3.87878788\n",
            " 3.90909091 3.93939394 3.96969697 4.        ]\n"
          ]
        },
        {
          "output_type": "execute_result",
          "data": {
            "text/plain": [
              "array([False, False, False, False, False, False, False, False, False,\n",
              "       False, False, False, False, False, False, False, False, False,\n",
              "       False, False, False, False, False, False, False, False, False,\n",
              "       False, False, False, False, False, False, False,  True,  True,\n",
              "        True,  True,  True,  True,  True,  True,  True,  True,  True,\n",
              "        True,  True,  True,  True,  True,  True,  True,  True,  True,\n",
              "        True,  True,  True,  True,  True,  True,  True,  True,  True,\n",
              "        True,  True,  True,  True,  True,  True,  True,  True,  True,\n",
              "        True,  True,  True,  True,  True,  True,  True,  True,  True,\n",
              "        True,  True,  True,  True,  True,  True,  True,  True,  True,\n",
              "        True,  True,  True,  True,  True,  True,  True,  True,  True,\n",
              "        True])"
            ]
          },
          "metadata": {},
          "execution_count": 40
        }
      ]
    },
    {
      "cell_type": "markdown",
      "source": [
        "We can then use this array to index elements of 𝑥"
      ],
      "metadata": {
        "id": "TOIGDECmlMWV"
      }
    },
    {
      "cell_type": "code",
      "source": [
        "y[x>2]"
      ],
      "metadata": {
        "colab": {
          "base_uri": "https://localhost:8080/"
        },
        "id": "dDGoQQq_lOCs",
        "outputId": "27e47199-3907-4777-f0ac-4336bd56cb1c"
      },
      "execution_count": null,
      "outputs": [
        {
          "output_type": "execute_result",
          "data": {
            "text/plain": [
              "array([ 0.89627139,  0.88242239,  0.86776314,  0.85230712,  0.8360685 ,\n",
              "        0.8190622 ,  0.80130384,  0.78280971,  0.76359681,  0.74368277,\n",
              "        0.72308588,  0.70182505,  0.6799198 ,  0.65739025,  0.63425707,\n",
              "        0.61054153,  0.58626538,  0.56145091,  0.53612093,  0.51029867,\n",
              "        0.48400786,  0.45727263,  0.43011753,  0.40256749,  0.37464782,\n",
              "        0.34638414,  0.31780241,  0.28892887,  0.25979004,  0.23041267,\n",
              "        0.20082374,  0.1710504 ,  0.14112001,  0.11106004,  0.08089809,\n",
              "        0.05066187,  0.02037912, -0.00992234, -0.04021468, -0.0704701 ,\n",
              "       -0.10066082, -0.1307591 , -0.16073733, -0.19056796, -0.22022362,\n",
              "       -0.24967706, -0.27890125, -0.30786935, -0.33655477, -0.36493116,\n",
              "       -0.39297247, -0.42065295, -0.44794718, -0.47483011, -0.50127705,\n",
              "       -0.52726371, -0.55276624, -0.57776122, -0.60222569, -0.6261372 ,\n",
              "       -0.64947379, -0.67221402, -0.69433703, -0.7158225 , -0.73665069,\n",
              "       -0.7568025 ])"
            ]
          },
          "metadata": {},
          "execution_count": 52
        }
      ]
    },
    {
      "cell_type": "markdown",
      "source": [
        "We can even use the x>2 array to index y and plot a subset of each array"
      ],
      "metadata": {
        "id": "jLppOf-elbuO"
      }
    },
    {
      "cell_type": "code",
      "source": [
        "plt.plot(x,y)\n",
        "plt.plot(x[x>2], y[x>2])\n",
        "plt.plot(x[y<0.5], y[y<0.5]) #the same thing can be done on y"
      ],
      "metadata": {
        "colab": {
          "base_uri": "https://localhost:8080/",
          "height": 448
        },
        "id": "ROn9EPmTliZ2",
        "outputId": "d753ec23-e597-4955-bbfb-f79b9c9e445d"
      },
      "execution_count": null,
      "outputs": [
        {
          "output_type": "execute_result",
          "data": {
            "text/plain": [
              "[<matplotlib.lines.Line2D at 0x783f611c18d0>]"
            ]
          },
          "metadata": {},
          "execution_count": 41
        },
        {
          "output_type": "display_data",
          "data": {
            "text/plain": [
              "<Figure size 640x480 with 1 Axes>"
            ],
            "image/png": "[encoded data removed]"
          },
          "metadata": {}
        }
      ]
    },
    {
      "cell_type": "markdown",
      "source": [
        "We can think of Trues as being 1s and Falses as being 0s; thats how the mathematical operations are achieved on boolean values. Finally we can index with these as well"
      ],
      "metadata": {
        "id": "mFO1OP1Dn0JL"
      }
    },
    {
      "cell_type": "code",
      "source": [
        "plt.plot(x,y)\n",
        "plt.plot(x[(y>-0.5) & (y<0.5)], y[(y>-0.5) & (y<0.5)]) # this selects the subset of values that are between two y values [-0.5,0.5]"
      ],
      "metadata": {
        "colab": {
          "base_uri": "https://localhost:8080/",
          "height": 448
        },
        "id": "SJ4sVZSFoHul",
        "outputId": "7dc8a56e-3230-4131-f8c2-aeda3c17aa87"
      },
      "execution_count": null,
      "outputs": [
        {
          "output_type": "execute_result",
          "data": {
            "text/plain": [
              "[<matplotlib.lines.Line2D at 0x783f61231890>]"
            ]
          },
          "metadata": {},
          "execution_count": 42
        },
        {
          "output_type": "display_data",
          "data": {
            "text/plain": [
              "<Figure size 640x480 with 1 Axes>"
            ],
            "image/png": "[encoded data removed]"
          },
          "metadata": {}
        }
      ]
    },
    {
      "cell_type": "markdown",
      "source": [
        "6) Fancy Indexing: Fancy indexing is a term adopted by NumPy to describe indexing using integer arrays. Suppose we create a 8x4 matrix of zeros and then we want to populate the rows with integers"
      ],
      "metadata": {
        "id": "uwkWL6OhqRjW"
      }
    },
    {
      "cell_type": "code",
      "source": [
        "arr = np.zeros((8, 4))\n",
        "for i in range(8):  #notice that to iterate 8 times even with the first index of 0, you have to use 8\n",
        "  arr[i] = i\n",
        "  #print(i)\n",
        "print(arr)"
      ],
      "metadata": {
        "colab": {
          "base_uri": "https://localhost:8080/"
        },
        "id": "XkbMd7sTrA3w",
        "outputId": "4c32a6dd-3a0a-4bef-e2e4-7126f49e8a74"
      },
      "execution_count": null,
      "outputs": [
        {
          "output_type": "stream",
          "name": "stdout",
          "text": [
            "[[0. 0. 0. 0.]\n",
            " [1. 1. 1. 1.]\n",
            " [2. 2. 2. 2.]\n",
            " [3. 3. 3. 3.]\n",
            " [4. 4. 4. 4.]\n",
            " [5. 5. 5. 5.]\n",
            " [6. 6. 6. 6.]\n",
            " [7. 7. 7. 7.]]\n"
          ]
        }
      ]
    },
    {
      "cell_type": "markdown",
      "source": [
        "Select rows 4,3,0,6 in that order. I am showing you positive. **I want you to use negative indices and obtain the same rows. **"
      ],
      "metadata": {
        "id": "1YJeFRlVsPU7"
      }
    },
    {
      "cell_type": "code",
      "source": [
        "arr[[4, 3, 0, 6]]\n",
        "arr[[-4,-5,-8,-2]]"
      ],
      "metadata": {
        "colab": {
          "base_uri": "https://localhost:8080/"
        },
        "id": "fRtGeTX7sbr6",
        "outputId": "b36086da-bb14-40b8-fe41-c270b0bca8ff"
      },
      "execution_count": null,
      "outputs": [
        {
          "output_type": "execute_result",
          "data": {
            "text/plain": [
              "array([[4., 4., 4., 4.],\n",
              "       [3., 3., 3., 3.],\n",
              "       [0., 0., 0., 0.],\n",
              "       [6., 6., 6., 6.]])"
            ]
          },
          "metadata": {},
          "execution_count": 44
        }
      ]
    },
    {
      "cell_type": "markdown",
      "source": [
        "You can easily reshape arrays as well. Here is an example"
      ],
      "metadata": {
        "id": "jUG4r6SVsxum"
      }
    },
    {
      "cell_type": "code",
      "source": [
        "arr = np.arange(32).reshape((8, 4))\n",
        "print(arr)"
      ],
      "metadata": {
        "colab": {
          "base_uri": "https://localhost:8080/"
        },
        "id": "4lNunGiGs2fT",
        "outputId": "875efa19-02b2-4250-ad39-b9451f3f1ccc"
      },
      "execution_count": null,
      "outputs": [
        {
          "output_type": "stream",
          "name": "stdout",
          "text": [
            "[[ 0  1  2  3]\n",
            " [ 4  5  6  7]\n",
            " [ 8  9 10 11]\n",
            " [12 13 14 15]\n",
            " [16 17 18 19]\n",
            " [20 21 22 23]\n",
            " [24 25 26 27]\n",
            " [28 29 30 31]]\n"
          ]
        }
      ]
    },
    {
      "cell_type": "code",
      "source": [
        "arr[[1, 5, 7, 2], [0, 3, 1, 2]]"
      ],
      "metadata": {
        "colab": {
          "base_uri": "https://localhost:8080/"
        },
        "id": "vFrKiorrUisx",
        "outputId": "5ae15d40-5b23-4698-a05b-69c769fa7f66"
      },
      "execution_count": null,
      "outputs": [
        {
          "output_type": "execute_result",
          "data": {
            "text/plain": [
              "array([ 4, 23, 29, 10])"
            ]
          },
          "metadata": {},
          "execution_count": 47
        }
      ]
    },
    {
      "cell_type": "markdown",
      "source": [
        "Here the elements (1, 0), (5, 3), (7, 1), and (2, 2) were selected. The result of fancy indexing with as many integer arrays as there are axes is always one-dimensional.The result of fancy indexing with as many integer arrays as there are axes is always one-dimensional."
      ],
      "metadata": {
        "id": "VGORsYAEUex_"
      }
    },
    {
      "cell_type": "markdown",
      "source": [
        "Keep in mind that fancy indexing, unlike slicing, always copies the data into a new array when assigning the result to a new variable. If you assign values with fancy indexing, the indexed values will be modified"
      ],
      "metadata": {
        "id": "Wd0QzMrTU9CT"
      }
    },
    {
      "cell_type": "code",
      "source": [
        "arr[[1, 5, 7, 2], [0, 3, 1, 2]]\n",
        "print(arr)\n",
        "arr[[1, 5, 7, 2], [0, 3, 1, 2]] = 0\n",
        "print(arr)"
      ],
      "metadata": {
        "colab": {
          "base_uri": "https://localhost:8080/"
        },
        "id": "_sSTtLGLU-6w",
        "outputId": "2c4261f8-0ba5-44bc-812b-8546503cbb69"
      },
      "execution_count": null,
      "outputs": [
        {
          "output_type": "stream",
          "name": "stdout",
          "text": [
            "[[ 0  1  2  3]\n",
            " [ 4  5  6  7]\n",
            " [ 8  9 10 11]\n",
            " [12 13 14 15]\n",
            " [16 17 18 19]\n",
            " [20 21 22 23]\n",
            " [24 25 26 27]\n",
            " [28 29 30 31]]\n",
            "[[ 0  1  2  3]\n",
            " [ 0  5  6  7]\n",
            " [ 8  9  0 11]\n",
            " [12 13 14 15]\n",
            " [16 17 18 19]\n",
            " [20 21 22  0]\n",
            " [24 25 26 27]\n",
            " [28  0 30 31]]\n"
          ]
        }
      ]
    },
    {
      "cell_type": "markdown",
      "source": [
        "**Create a 4x4 matrix with 5 on diagonals and -1 on all off-diagonals.** ✅"
      ],
      "metadata": {
        "id": "AH0SGQ-SxFR5"
      }
    },
    {
      "cell_type": "code",
      "source": [
        "a=(np.ones((4_,4))*5)+np.diag(4)*2 #matrix = 5 * np.eye(4) - np.ones((4, 4) or matrix = 5 * np.ones(4) - np.ones((4, 4))\n",
        "print(a)"
      ],
      "metadata": {
        "id": "5_TXztsixWqI",
        "colab": {
          "base_uri": "https://localhost:8080/",
          "height": 108
        },
        "outputId": "dcc2fa8f-eca3-4f72-8ab7-06cac6bd4231"
      },
      "execution_count": null,
      "outputs": [
        {
          "output_type": "error",
          "ename": "SyntaxError",
          "evalue": "invalid decimal literal (<ipython-input-46-07e2935c30de>, line 1)",
          "traceback": [
            "\u001b[0;36m  File \u001b[0;32m\"<ipython-input-46-07e2935c30de>\"\u001b[0;36m, line \u001b[0;32m1\u001b[0m\n\u001b[0;31m    a=(np.ones((4_,4))*5)+np.diag(4)*2\u001b[0m\n\u001b[0m                 ^\u001b[0m\n\u001b[0;31mSyntaxError\u001b[0m\u001b[0;31m:\u001b[0m invalid decimal literal\n"
          ]
        }
      ]
    },
    {
      "cell_type": "markdown",
      "source": [
        "7)Universal functions (ufunc) are functions that perform fast element wise operations on data in nd arrays"
      ],
      "metadata": {
        "id": "faVp5euBvk3i"
      }
    },
    {
      "cell_type": "code",
      "source": [
        "arr=np.arange(0,10,3)\n",
        "b=np.sqrt(arr) #square root of each element\n",
        "print(b)\n",
        "x=np.random.randn(8)\n",
        "y=np.random.randn(8)\n",
        "z=np.maximum(x,y) #compares index by index elements in x and y and assigns the max to z\n",
        "print(x)\n",
        "print(y)\n",
        "print(z)"
      ],
      "metadata": {
        "colab": {
          "base_uri": "https://localhost:8080/"
        },
        "id": "es3bbhFGv5D5",
        "outputId": "9c0897a3-1d8d-4ee7-b41a-0d5c1f463247"
      },
      "execution_count": null,
      "outputs": [
        {
          "output_type": "stream",
          "name": "stdout",
          "text": [
            "[0.         1.73205081 2.44948974 3.        ]\n",
            "[-1.19750715  0.28137317 -1.55914819  0.12689405 -0.16152852 -0.56506523\n",
            " -1.16931008 -0.41848162]\n",
            "[-0.01859858  0.10894281  0.8228807  -0.89802133  0.31910744 -1.03915968\n",
            "  1.14456415 -0.56021461]\n",
            "[-0.01859858  0.28137317  0.8228807   0.12689405  0.31910744 -0.56506523\n",
            "  1.14456415 -0.41848162]\n"
          ]
        }
      ]
    },
    {
      "cell_type": "markdown",
      "source": [
        "If you want to separate the fraction and integral parts of an array. It is very easy in Python"
      ],
      "metadata": {
        "id": "giZZO0G6woHZ"
      }
    },
    {
      "cell_type": "code",
      "source": [
        "arr=np.random.randn(7)*5\n",
        "print(arr)\n",
        "remainder,whole_int=np.modf(arr) #Python allows this kind of syntax and we will see it in other instances as well\n",
        "print(remainder)\n",
        "print(whole_int)"
      ],
      "metadata": {
        "colab": {
          "base_uri": "https://localhost:8080/"
        },
        "id": "tCay4lgpwzWq",
        "outputId": "eecc557d-6d95-4ac7-dc65-15106d9dd5c1"
      },
      "execution_count": null,
      "outputs": [
        {
          "output_type": "stream",
          "name": "stdout",
          "text": [
            "[ 2.18774492  9.06072106  7.69764783 -3.21771897 -2.15576793 -6.81948032\n",
            " -1.17114032]\n",
            "[ 0.18774492  0.06072106  0.69764783 -0.21771897 -0.15576793 -0.81948032\n",
            " -0.17114032]\n",
            "[ 2.  9.  7. -3. -2. -6. -1.]\n"
          ]
        }
      ]
    },
    {
      "cell_type": "markdown",
      "source": [
        "8) Mathematical and statistical methods"
      ],
      "metadata": {
        "id": "ZEd7wYomxsHj"
      }
    },
    {
      "cell_type": "code",
      "source": [
        "arr=np.random.randn(6,4)\n",
        "a=np.mean(arr)\n",
        "print(a)\n",
        "b=np.mean(arr,axis=0)  #columnwise means. you can use axis=1 to get rowwise means. Similarly, sums, cumsum, cumprod and other stats can be obtained\n",
        "#print(arr)\n",
        "print(b)\n",
        "arr.mean(axis=0) #does the same thing as np.mean(arr,axis=0), but preferable to use numpy"
      ],
      "metadata": {
        "colab": {
          "base_uri": "https://localhost:8080/"
        },
        "id": "FSM8PMgMyh86",
        "outputId": "09a836d4-fc03-467f-b050-166eae5e50a8"
      },
      "execution_count": null,
      "outputs": [
        {
          "output_type": "stream",
          "name": "stdout",
          "text": [
            "0.12629664932802628\n",
            "[-0.02585491  0.44735881  0.01914774  0.06453496]\n"
          ]
        },
        {
          "output_type": "execute_result",
          "data": {
            "text/plain": [
              "array([-0.02585491,  0.44735881,  0.01914774,  0.06453496])"
            ]
          },
          "metadata": {},
          "execution_count": 51
        }
      ]
    },
    {
      "cell_type": "markdown",
      "source": [
        "9) Pseudorandom number generation"
      ],
      "metadata": {
        "id": "Iqe9K3JGz6jj"
      }
    },
    {
      "cell_type": "code",
      "source": [
        "arr=np.random.randn(6,4)\n",
        "arr4=np.random.normal(size=(6,4)) #note the slightly different syntax\n",
        "print(arr)\n",
        "print(arr4)"
      ],
      "metadata": {
        "colab": {
          "base_uri": "https://localhost:8080/"
        },
        "id": "ziS2imh90EPE",
        "outputId": "fd1c4c5a-99b2-44ba-dd3f-9eb440c5853f"
      },
      "execution_count": null,
      "outputs": [
        {
          "output_type": "stream",
          "name": "stdout",
          "text": [
            "[[-0.58667975  0.69995402  0.12954524 -0.15448632]\n",
            " [-0.09585495 -1.30261214  0.56524118 -0.98929953]\n",
            " [-0.64646883 -0.09391578  0.34447425  0.85701797]\n",
            " [-0.52343917  2.75277283 -0.95867763  0.03409302]\n",
            " [ 0.53012778 -0.9032033  -0.57161906  0.30051445]\n",
            " [-0.34185    -0.22066162 -1.47718718  0.45951378]]\n",
            "[[-0.87739418  0.60367645 -0.08570268  0.96678305]\n",
            " [ 0.20789571 -1.68087249  0.91154409 -0.1954176 ]\n",
            " [ 1.10612315  1.00199004  1.29468985  0.12806816]\n",
            " [-2.10216143  0.56485747 -0.13620786  0.61771981]\n",
            " [ 0.09942057 -1.91540576  1.01267561  0.11489249]\n",
            " [ 1.07891913  0.01318608  0.22515515 -0.33042073]]\n"
          ]
        }
      ]
    },
    {
      "cell_type": "markdown",
      "source": [
        "Use seeds to generate random numbers. Random numbers are not truly random (rather, pseudorandom) but instead are generated by a configurable random number generator that determines deterministically what values are created. Functions like numpy.random.standard_normal use the numpy.random module's default random number generator, but your code can be configured to use an explicit generator:"
      ],
      "metadata": {
        "id": "cHXz284m1nRg"
      }
    },
    {
      "cell_type": "code",
      "source": [
        "rng = np.random.default_rng(seed=12345)\n",
        "data = rng.normal((2, 3))"
      ],
      "metadata": {
        "id": "dJJcY-mt1re_"
      },
      "execution_count": null,
      "outputs": []
    },
    {
      "cell_type": "code",
      "source": [
        "a=[[2,3,4],[3,4,5]]\n",
        "print(a)\n",
        "b=np.array(a).T\n",
        "b[1]=7\n",
        "print(b)\n",
        "print(a)"
      ],
      "metadata": {
        "colab": {
          "base_uri": "https://localhost:8080/"
        },
        "id": "3tFupOaJ43-b",
        "outputId": "a106e75a-9431-46a8-e039-b60227a4be9c"
      },
      "execution_count": null,
      "outputs": [
        {
          "output_type": "stream",
          "name": "stdout",
          "text": [
            "[[2, 3, 4], [3, 4, 5]]\n",
            "[[2 3]\n",
            " [7 7]\n",
            " [4 5]]\n",
            "[[2, 3, 4], [3, 4, 5]]\n"
          ]
        }
      ]
    },
    {
      "cell_type": "markdown",
      "source": [
        "Two Matplotliib examples"
      ],
      "metadata": {
        "id": "Axlco6a5Am1R"
      }
    },
    {
      "cell_type": "code",
      "source": [
        "plt.subplot(121)\n",
        "plt.plot(np.random.randn(100),'b.')\n",
        "plt.plot(np.random.rand(100),'r.')\n",
        "plt.legend([\"randn\",\"rand\"])\n",
        "plt.subplot(122)\n",
        "plt.hist(np.random.randn(100))\n",
        "plt.xlabel('X')\n",
        "plt.show()"
      ],
      "metadata": {
        "colab": {
          "base_uri": "https://localhost:8080/",
          "height": 449
        },
        "id": "Ib2zJwHkA3fa",
        "outputId": "e8173e8c-18a3-4ad6-c083-daa598e846ff"
      },
      "execution_count": null,
      "outputs": [
        {
          "output_type": "display_data",
          "data": {
            "text/plain": [
              "<Figure size 640x480 with 2 Axes>"
            ],
            "image/png": "[encoded data removed]"
          },
          "metadata": {}
        }
      ]
    },
    {
      "cell_type": "code",
      "source": [
        "fig,ax = plt.subplots(2,3)\n",
        "np.shape(ax)\n",
        "ax[0,0].plot(np.random.rand(1000),'.')\n",
        "\n",
        "t = np.arange(1000)\n",
        "ax[0,1].plot(t, np.sin(2*np.pi*t*3/1000),'b-')\n",
        "ax[0,1].plot(t, np.cos(2*np.pi*t*3/1000),'r-')\n",
        "ax[0,1].legend([\"sin\",\"cos\"])\n",
        "\n",
        "ax[1,0].hist(np.random.randn(1000))\n",
        "\n",
        "x = np.arange(10)\n",
        "y = -5 + 1.5*x + np.random.randn(10)*2\n",
        "coef = np.polyfit(x,y,1)\n",
        "yfit = np.polyval(coef, x)\n",
        "ax[1,2].plot(x,y,'bs')\n",
        "ax[1,2].plot(x,yfit,'r-')\n",
        "ax[1,2].legend([\"data\",\"linear fit\"])\n",
        "\n",
        "plt.show()\n",
        "fig.savefig(\"my_figure_pdf.pdf\")\n",
        "fig.savefig(\"my_figure_png.png\")"
      ],
      "metadata": {
        "colab": {
          "base_uri": "https://localhost:8080/",
          "height": 435
        },
        "id": "_40DfyfqApm5",
        "outputId": "9f198b96-a4b3-49a6-b31f-1e47019fde47"
      },
      "execution_count": null,
      "outputs": [
        {
          "output_type": "display_data",
          "data": {
            "text/plain": [
              "<Figure size 640x480 with 6 Axes>"
            ],
            "image/png": "[encoded data removed]"
          },
          "metadata": {}
        }
      ]
    }
  ]
}